{
 "cells": [
  {
   "cell_type": "code",
   "execution_count": 3,
   "metadata": {},
   "outputs": [
    {
     "name": "stdout",
     "output_type": "stream",
     "text": [
      "Generating m01_basic\n",
      "  Temperature 0.0\n",
      "    Trial 1 of 3\n",
      "        attic table -> furniture\n",
      "        queen finger -> royalty\n",
      "        pair chocolate -> fondue\n",
      "        pilot hard -> cockpit\n",
      "        dough skate -> kneadboards\n",
      "        queen diamond -> monarchy\n",
      "        punch pair -> fruit\n",
      "        mushroom summit -> fungi\n",
      "        genius punch -> smartstrike\n",
      "        truck ladder -> fireman\n",
      "    Trial 2 of 3\n",
      "        attic table -> storage\n",
      "        queen finger -> royalty\n",
      "        pair chocolate -> fondue\n",
      "        pilot hard -> cockpit\n",
      "        dough skate -> kneadboards\n",
      "        queen diamond -> monarchy\n",
      "        punch pair -> fruit\n",
      "        mushroom summit -> fungi\n",
      "        genius punch -> smartstrike\n",
      "        truck ladder -> fireman\n",
      "    Trial 3 of 3\n",
      "        attic table -> furniture\n",
      "        queen finger -> royalty\n",
      "        pair chocolate -> fondue\n",
      "        pilot hard -> cockpit\n",
      "        dough skate -> kneadboards\n",
      "        queen diamond -> monarchy\n",
      "        punch pair -> fruit\n",
      "        mushroom summit -> fungi\n",
      "        genius punch -> smartstrike\n",
      "        truck ladder -> fireman\n",
      "  Temperature 0.5\n",
      "    Trial 1 of 3\n",
      "        attic table -> storage\n",
      "        queen finger -> royalty\n",
      "        pair chocolate -> fondue\n",
      "        pilot hard -> cockpit\n",
      "        dough skate -> kneadboard\n",
      "        queen diamond -> crown\n",
      "        punch pair -> fruit\n",
      "        mushroom summit -> fungi\n",
      "        genius punch -> smartstrike\n",
      "        truck ladder -> fireman\n",
      "    Trial 2 of 3\n",
      "        attic table -> storage\n",
      "        queen finger -> royalty\n",
      "        pair chocolate -> truffle\n",
      "        pilot hard -> cockpit\n",
      "        dough skate -> knead\n",
      "        queen diamond -> monarchy\n",
      "        punch pair -> fruit\n",
      "        mushroom summit -> fungi\n",
      "        genius punch -> smartstrike\n",
      "        truck ladder -> fireman\n",
      "    Trial 3 of 3\n",
      "        attic table -> furniture\n",
      "        queen finger -> royalty\n",
      "        pair chocolate -> fondue\n",
      "        pilot hard -> cockpit\n",
      "        dough skate -> kneadboards\n",
      "        queen diamond -> monarchy\n",
      "        punch pair -> boxing\n",
      "        mushroom summit -> fungi\n",
      "        genius punch -> smartstrike\n",
      "        truck ladder -> fireman\n",
      "  Temperature 0.9\n",
      "    Trial 1 of 3\n",
      "        attic table -> storage\n",
      "        queen finger -> royalty\n",
      "        pair chocolate -> dessert\n",
      "        pilot hard -> cockpit\n",
      "        dough skate -> knead\n",
      "        queen diamond -> royalty\n",
      "        punch pair -> boxing\n",
      "        mushroom summit -> fungi\n",
      "        genius punch -> smartstrike\n",
      "        truck ladder -> firetruck\n",
      "    Trial 2 of 3\n",
      "        attic table -> furniture\n",
      "        queen finger -> royalty\n",
      "        pair chocolate -> truffle\n",
      "        pilot hard -> cockpit\n",
      "        dough skate -> knead\n",
      "        queen diamond -> royalty\n",
      "        punch pair -> boxing\n",
      "        mushroom summit -> toadstool\n",
      "        genius punch -> brainy\n",
      "        truck ladder -> fireman\n",
      "    Trial 3 of 3\n",
      "        attic table -> storage\n",
      "        queen finger -> royalty\n",
      "        pair chocolate -> dessert\n",
      "        pilot hard -> cockpit\n",
      "        dough skate -> roll\n",
      "        queen diamond -> royalty\n",
      "        punch pair -> fruit\n",
      "        mushroom summit -> toadstool\n",
      "        genius punch -> smartknock\n",
      "        truck ladder -> fireman\n",
      "LLM Cache: 90 hits, 0 misses\n",
      "           0 new input tokens, 0 new output tokens, 9648 total input tokens, 315 total output tokens\n",
      "           new (this run) API cost: $0.00, total (including previously-cached runs) API cost: $0.11\n",
      "\n"
     ]
    }
   ],
   "source": [
    "import importlib\n",
    "import random\n",
    "import sys\n",
    "\n",
    "import generate\n",
    "\n",
    "# reload if generate.py has changed\n",
    "importlib.reload(generate)\n",
    "\n",
    "results = generate.generate()"
   ]
  },
  {
   "cell_type": "code",
   "execution_count": 4,
   "metadata": {},
   "outputs": [
    {
     "name": "stdout",
     "output_type": "stream",
     "text": [
      "Method, Temperature, 10%, 50%, 90%\n",
      "m01_basic, 0.0, 1.00, 2.00, 3.10\n",
      "m01_basic, 0.5, 1.00, 2.00, 3.10\n",
      "m01_basic, 0.9, 1.00, 2.00, 4.00\n"
     ]
    },
    {
     "data": {
      "image/png": "[encoded data removed]",
      "text/plain": [
       "<Figure size 1000x600 with 1 Axes>"
      ]
     },
     "metadata": {},
     "output_type": "display_data"
    }
   ],
   "source": [
    "import evaluate\n",
    "\n",
    "# reload if evaluate.py has changed\n",
    "importlib.reload(evaluate)\n",
    "\n",
    "evaluate.evaluate(results)"
   ]
  }
 ],
 "metadata": {
  "kernelspec": {
   "display_name": "langchain2",
   "language": "python",
   "name": "python3"
  },
  "language_info": {
   "codemirror_mode": {
    "name": "ipython",
    "version": 3
   },
   "file_extension": ".py",
   "mimetype": "text/x-python",
   "name": "python",
   "nbconvert_exporter": "python",
   "pygments_lexer": "ipython3",
   "version": "3.10.13"
  },
  "orig_nbformat": 4
 },
 "nbformat": 4,
 "nbformat_minor": 2
}
