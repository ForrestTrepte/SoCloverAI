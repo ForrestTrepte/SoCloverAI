{
 "cells": [
  {
   "cell_type": "code",
   "execution_count": 1,
   "metadata": {},
   "outputs": [
    {
     "name": "stdout",
     "output_type": "stream",
     "text": [
      "Using key from OPENAI_API_KEY_PERSONAL environment variable\n",
      "Generating m01_basic\n",
      "  Temperature 0.0\n",
      "    Trial 1 of 3\n",
      "        attic table -> furniture\n",
      "        queen finger -> royalty\n",
      "        pair chocolate -> fondue\n",
      "        pilot hard -> cockpit\n",
      "        dough skate -> kneadboards\n",
      "        queen diamond -> monarchy\n",
      "        punch pair -> fruit\n",
      "        mushroom summit -> fungi\n"
     ]
    }
   ],
   "source": [
    "import importlib\n",
    "import random\n",
    "import sys\n",
    "\n",
    "import generate\n",
    "\n",
    "# reload if generate.py has changed\n",
    "importlib.reload(generate)\n",
    "\n",
    "results = generate.generate()"
   ]
  },
  {
   "cell_type": "code",
   "execution_count": null,
   "metadata": {},
   "outputs": [],
   "source": [
    "import evaluate\n",
    "\n",
    "# reload if evaluate.py has changed\n",
    "importlib.reload(evaluate)\n",
    "\n",
    "evaluate.evaluate(results)"
   ]
  }
 ],
 "metadata": {
  "kernelspec": {
   "display_name": "langchain2",
   "language": "python",
   "name": "python3"
  },
  "language_info": {
   "codemirror_mode": {
    "name": "ipython",
    "version": 3
   },
   "file_extension": ".py",
   "mimetype": "text/x-python",
   "name": "python",
   "nbconvert_exporter": "python",
   "pygments_lexer": "ipython3",
   "version": "3.10.13"
  },
  "orig_nbformat": 4
 },
 "nbformat": 4,
 "nbformat_minor": 2
}
